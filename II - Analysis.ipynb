{
 "cells": [
  {
   "cell_type": "code",
   "execution_count": null,
   "metadata": {},
   "outputs": [],
   "source": [
    "import pandas as pd\n",
    "import numpy as np\n",
    "from datetime import date\n",
    "\n",
    "pd.set_option('display.max_columns', 32)\n",
    "pd.options.display.float_format = '{:.5f}'.format"
   ]
  },
  {
   "cell_type": "code",
   "execution_count": null,
   "metadata": {},
   "outputs": [],
   "source": [
    "df = pd.read_csv('./flights.csv', low_memory=False)"
   ]
  },
  {
   "cell_type": "code",
   "execution_count": null,
   "metadata": {},
   "outputs": [],
   "source": [
    "def null_info(dataframe):\n",
    "    tab_info = pd.DataFrame(dataframe.dtypes).T.rename(index={0:'column type'})\n",
    "    tab_info = tab_info.append(pd.DataFrame(dataframe.isnull().sum()).T.rename(index={0:'null values (nb)'}))\n",
    "    tab_info = tab_info.append(pd.DataFrame(dataframe.isnull().sum()/dataframe.shape[0]*100).T.rename(index={0:'null values (%)'}))\n",
    "\n",
    "    return tab_info"
   ]
  },
  {
   "cell_type": "markdown",
   "metadata": {},
   "source": [
    "# II. Analysis\n",
    "The dataset used in this project comes from the U.S. Department of Transportation, it is available from Kaggle and contains the records for a year of flights. The dataframe contains 581+ millions of datapoints with 31 features each, which will be studied and used based on the information gain each one provides."
   ]
  },
  {
   "cell_type": "markdown",
   "metadata": {},
   "source": [
    "### II.1 General information about the data"
   ]
  },
  {
   "cell_type": "code",
   "execution_count": null,
   "metadata": {
    "scrolled": true
   },
   "outputs": [],
   "source": [
    "print \"The dataframe contains {} data points with {} features each.\".format(*df.shape)"
   ]
  },
  {
   "cell_type": "markdown",
   "metadata": {},
   "source": [
    "##### Brief description of the features\n",
    "**YEAR**: Year of the Flight Trip  \n",
    "**MONTH**: Month of the Flight Trip  \n",
    "**DAY**: Day of the Flight Trip  \n",
    "**DAY_OF_WEEK**: Day of week of the Flight Trip  \n",
    "**AIRLINE**: Airline Identifier  \n",
    "**FLIGHT_NUMBER**: Flight Identifier  \n",
    "**TAIL_NUMBER**: Aircraft Identifier  \n",
    "**ORIGIN_AIRPORT**: Starting Airport  \n",
    "**DESTINATION_AIRPORT**: Destination Airport  \n",
    "**SCHEDULED_DEPARTURE**: Planned Departure Time  \n",
    "**DEPARTURE_TIME**: WHEEL_OFF - TAXI_OUT  \n",
    "**DEPARTURE_DELAY**: Total Delay on Depature  \n",
    "**TAXI_OUT**: The time duration elapsed between departure from the origin airport gate and wheels off  \n",
    "**WHEELS_OFF**: The time point that the aircraft's wheels leave the ground  \n",
    "**SCHEDULED_TIME**: Planned time amount needed for the flight trip  \n",
    "**ELAPSED_TIME**: AIR_TIME + TAXI_IN + TAXI_OUT  \n",
    "**AIR_TIME**: The time duration between wheels_off and wheels_on time  \n",
    "**DISTANCE**: Distance between two airports  \n",
    "**WHEELS_ON**: The time point that the aircraft's wheels touch on the ground  \n",
    "**TAXI_IN**: The time duration elapsed between wheels-on and gate arrival at the destination airport  \n",
    "**SCHEDULED_ARRIVAL**: Planned arrival time  \n",
    "**ARRIVAL_TIME**: WHEELS_ON + TAXI_IN  \n",
    "**ARRIVAL_DELAY**: ARRIVAL_TIME - SCHEDULED_ARRIVAL  \n",
    "**DIVERTED**: Aircraft landed on airport that out of schedule  \n",
    "**CANCELLED**: Flight Cancelled (1 = cancelled)  \n",
    "**CANCELLATION_REASON**: Reason for Cancellation of flight: A - Airline/Carrier; B - Weather; C - National Air System; D - Security  \n",
    "**AIR_SYSTEM_DELAY**: Delay caused by air system  \n",
    "**SECURITY_DELAY**: Delay caused by security  \n",
    "**AIRLINE_DELAY**: Delay caused by the airline  \n",
    "**LATE_AIRCRAFT_DELAY**: Delay caused by aircraft  \n",
    "**WEATHER_DELAY**: Delay caused by weather  "
   ]
  },
  {
   "cell_type": "code",
   "execution_count": null,
   "metadata": {
    "scrolled": false
   },
   "outputs": [],
   "source": [
    "null_info(df)"
   ]
  },
  {
   "cell_type": "markdown",
   "metadata": {},
   "source": [
    "##### Columns that contain null values\n",
    "Tail Number = 0.252978%  \n",
    "Departure Time, Departure Delay = 1.48053%  \n",
    "Taxi Out, Wheels Off = 1.53026%  \n",
    "Scheduled Time = 0.000103%  \n",
    "Wheels On, Taxi In, Arrival Time = 1.58982%  \n",
    "Air Time, Elapsed Time, Arrival Delay = 1.80563%  \n",
    "Cancellation Reason = 98.4554%  \n",
    "Air System Delay, Security Delay, Airline Delay, Late Aircraft Delay, Weather Delay = 81.725%"
   ]
  },
  {
   "cell_type": "markdown",
   "metadata": {},
   "source": [
    "##### Class balance  \n",
    "This dataset will be splitted in two classes:  \n",
    "**DELAYED**  \n",
    "**NOT DELAYED**\n",
    "\n",
    "Every flight having a departure delay greater than 0 will be considered as **delayed**, while having 0 or less departure delay is considered **not delayed**."
   ]
  },
  {
   "cell_type": "code",
   "execution_count": null,
   "metadata": {},
   "outputs": [],
   "source": [
    "df_delayed = df[df.DEPARTURE_DELAY > 0]\n",
    "df_not_delayed = df[df.DEPARTURE_DELAY <= 0]\n",
    "\n",
    "print \"During 2015 there were {} fligths delayed and {} flights that were ahead of its departure time.\".format(df_delayed.shape[0], df_not_delayed.shape[0])"
   ]
  },
  {
   "cell_type": "code",
   "execution_count": null,
   "metadata": {},
   "outputs": [],
   "source": [
    "flights_delayed = df_delayed.shape[0]\n",
    "flights_not_delayed = df_not_delayed.shape[0]\n",
    "flights_total = df.shape[0]\n",
    "\n",
    "print \"In total there are {} flights delayed and {} flights on time on the dataset\".format(flights_delayed,flights_not_delayed)\n",
    "print \"Distribution of classes is Delayed: {}% | Not Delayed {}%\".format((flights_delayed * 100) / flights_total, (flights_not_delayed * 100) / flights_total)"
   ]
  },
  {
   "cell_type": "code",
   "execution_count": null,
   "metadata": {},
   "outputs": [],
   "source": [
    "df['LABELS'] = np.where(df.DEPARTURE_DELAY > 0, 'DELAYED', 'NOT DELAYED')"
   ]
  },
  {
   "cell_type": "code",
   "execution_count": null,
   "metadata": {
    "scrolled": true
   },
   "outputs": [],
   "source": [
    "df.head()"
   ]
  },
  {
   "cell_type": "markdown",
   "metadata": {},
   "source": [
    "### II.2 Cleaning the data"
   ]
  },
  {
   "cell_type": "markdown",
   "metadata": {},
   "source": [
    "##### Cleaning unobtainable data\n",
    "Since this project will be using live data to see if a flight will be delayed or not, it is not possible to use past data from flights, so every feature that relates to past information about the flight will be descarted.\n",
    "\n",
    "DEPARTURE_TIME  \n",
    "DEPARTURE_DELAY  \n",
    "TAXI_OUT  \n",
    "WHEELS_OFF  \n",
    "ELAPSED_TIME  \n",
    "AIT_TIME  \n",
    "WHEELS_ON  \n",
    "TAXI_IN  \n",
    "ARRIVAL_TIME  \n",
    "ARRIVAL_DELAY  \n",
    "DIVERTED  \n",
    "CANCELLED  \n",
    "CANCELLATION_REASON  \n",
    "AIR_SYSTEM_DELAY  \n",
    "SECURITY_DELAY  \n",
    "AIRLINE_DELAY  \n",
    "LATE_AIRCRAFT_DELAY  \n",
    "WEATHER_DELAY"
   ]
  },
  {
   "cell_type": "code",
   "execution_count": null,
   "metadata": {
    "scrolled": false
   },
   "outputs": [],
   "source": [
    "columns_to_drop = [\n",
    "    'DEPARTURE_TIME',\n",
    "    'DEPARTURE_DELAY',\n",
    "    'TAXI_OUT',\n",
    "    'WHEELS_OFF',\n",
    "    'ELAPSED_TIME',\n",
    "    'AIR_TIME',\n",
    "    'WHEELS_ON',\n",
    "    'TAXI_IN',\n",
    "    'ARRIVAL_TIME',\n",
    "    'ARRIVAL_DELAY',\n",
    "    'DIVERTED',\n",
    "    'CANCELLED',\n",
    "    'CANCELLATION_REASON',\n",
    "    'AIR_SYSTEM_DELAY',\n",
    "    'SECURITY_DELAY',\n",
    "    'AIRLINE_DELAY',\n",
    "    'LATE_AIRCRAFT_DELAY',\n",
    "    'WEATHER_DELAY'\n",
    "]\n",
    "df_clean = df.drop(columns=columns_to_drop)"
   ]
  },
  {
   "cell_type": "markdown",
   "metadata": {},
   "source": [
    "##### Dealing with generalization vs specificity\n",
    "Supposing the TAIL_NUMBER attribute is unique for each flight, let's verify how many unique tail numbers are present on the dataset and if it is unique for each entry then it can be discarted."
   ]
  },
  {
   "cell_type": "code",
   "execution_count": null,
   "metadata": {
    "scrolled": true
   },
   "outputs": [],
   "source": [
    "tail_numbers = df.TAIL_NUMBER.unique()\n",
    "print \"In total there are {} unique tail numbers in {} flights on the dataset. ({}% of the records are unique)\".format(tail_numbers.shape[0], df_clean.shape[0], ((tail_numbers.shape[0] * 100.00) / df_clean.shape[0]))"
   ]
  },
  {
   "cell_type": "markdown",
   "metadata": {},
   "source": [
    "After counting the unique values it is clear that only a small part of the dataset is unique, which may give this feature a strong weight for the decission. Later in the project a feature selection will be executed to check if the feature helps as much in the decission making for the classifiers."
   ]
  },
  {
   "cell_type": "code",
   "execution_count": null,
   "metadata": {},
   "outputs": [],
   "source": [
    "flight_numbers = df.FLIGHT_NUMBER.unique()\n",
    "print \"In total there are {} unique flight numbers in {} flights on the dataset. ({}% of the records are unique)\".format(flight_numbers.shape[0], df_clean.shape[0], ((flight_numbers.shape[0] * 100.00) / df_clean.shape[0]))"
   ]
  },
  {
   "cell_type": "code",
   "execution_count": null,
   "metadata": {},
   "outputs": [],
   "source": [
    "print \"Of the flights with tail number {}, there are only {} of {} unique flight numbers.\".format('N407AS', df[df.TAIL_NUMBER == 'N407AS'].FLIGHT_NUMBER.unique().shape[0], df[df.TAIL_NUMBER == 'N407AS'].shape[0])"
   ]
  },
  {
   "cell_type": "code",
   "execution_count": null,
   "metadata": {},
   "outputs": [],
   "source": [
    "df[(df.TAIL_NUMBER == 'N407AS') & (df.FLIGHT_NUMBER == 98)]"
   ]
  },
  {
   "cell_type": "markdown",
   "metadata": {},
   "source": [
    "As shown above, the same plane did the same flight almost 4 times a year, but even when the same flight was performed it had different characteristics like date of week and hour of departure."
   ]
  },
  {
   "cell_type": "code",
   "execution_count": null,
   "metadata": {
    "scrolled": true
   },
   "outputs": [],
   "source": [
    "null_info(df_clean)"
   ]
  },
  {
   "cell_type": "markdown",
   "metadata": {},
   "source": [
    "##### Cleaning null datapoints\n",
    "Now that the dataset has only the features that are available on classification time, it is possible to drop the rows containing null values since it will only loose less than 0.5% of the information, which in this case is not significant."
   ]
  },
  {
   "cell_type": "code",
   "execution_count": null,
   "metadata": {},
   "outputs": [],
   "source": [
    "df_clean = df_clean.drop(index=(df_clean[df_clean.TAIL_NUMBER.isnull()].index | df_clean[df_clean.SCHEDULED_TIME.isnull()].index))"
   ]
  },
  {
   "cell_type": "code",
   "execution_count": null,
   "metadata": {
    "scrolled": false
   },
   "outputs": [],
   "source": [
    "print \"The final dataset contains {} rows and {} columns.\".format(df_clean.shape[0], df_clean.shape[1])"
   ]
  },
  {
   "cell_type": "code",
   "execution_count": null,
   "metadata": {
    "scrolled": true
   },
   "outputs": [],
   "source": [
    "null_info(df_clean)"
   ]
  },
  {
   "cell_type": "markdown",
   "metadata": {},
   "source": [
    "##### Understanding data domain\n",
    "\n",
    "It is important to understand how the data is distributed between their domains, this is seeing which are the limits of the continuos features and the total number of classes in the discrete features."
   ]
  },
  {
   "cell_type": "code",
   "execution_count": null,
   "metadata": {},
   "outputs": [],
   "source": [
    "df_clean.dtypes"
   ]
  },
  {
   "cell_type": "code",
   "execution_count": null,
   "metadata": {},
   "outputs": [],
   "source": [
    "def obj_to_cat(dataframe, column):\n",
    "    dataframe[column] = dataframe[column].astype('category')\n",
    "\n",
    "columns_to_categorize = [\n",
    "    'AIRLINE',\n",
    "    'FLIGHT_NUMBER',\n",
    "    'TAIL_NUMBER',\n",
    "    'ORIGIN_AIRPORT',\n",
    "    'DESTINATION_AIRPORT',\n",
    "    'LABELS'\n",
    "]\n",
    "\n",
    "for column in columns_to_categorize:\n",
    "    obj_to_cat(df_clean, column)"
   ]
  },
  {
   "cell_type": "code",
   "execution_count": null,
   "metadata": {},
   "outputs": [],
   "source": [
    "df_clean.dtypes"
   ]
  },
  {
   "cell_type": "markdown",
   "metadata": {},
   "source": [
    "The feature YEAR contains the same value for all dataset, thus it can be removed since it won't make any difference.  \n",
    "The MONTH and DAY features are numeric but they depend one another, it is not the same to be in the day 15th of February than the 15th of April, so it is possibly not optimal to take it as numerical.  \n",
    "For this project the date will be considered as a combination of two classes, the week number and the day of the week. The combination of this two classes gives the same information as the date itself, and it is more generic than having the day number and the month."
   ]
  },
  {
   "cell_type": "code",
   "execution_count": null,
   "metadata": {},
   "outputs": [],
   "source": [
    "df_clean['DATE'] = df_clean.apply(lambda row: date(row.YEAR, row.MONTH, row.DAY), axis=1)"
   ]
  },
  {
   "cell_type": "code",
   "execution_count": null,
   "metadata": {},
   "outputs": [],
   "source": [
    "df_clean['WEEK'] = df_clean.apply(lambda row: row.DATE.isocalendar()[1], axis=1)"
   ]
  },
  {
   "cell_type": "code",
   "execution_count": null,
   "metadata": {},
   "outputs": [],
   "source": [
    "columns_to_categorize = [\n",
    "    'WEEK',\n",
    "    'DAY_OF_WEEK'\n",
    "]\n",
    "\n",
    "for column in columns_to_categorize:\n",
    "    obj_to_cat(df_clean, column)"
   ]
  },
  {
   "cell_type": "code",
   "execution_count": null,
   "metadata": {},
   "outputs": [],
   "source": [
    "columns_to_drop = [\n",
    "    'YEAR',\n",
    "    'MONTH',\n",
    "    'DAY',\n",
    "    'DATE'\n",
    "]\n",
    "df_clean = df_clean.drop(columns=columns_to_drop)"
   ]
  },
  {
   "cell_type": "markdown",
   "metadata": {},
   "source": [
    "The only numeric features are:  \n",
    "SCHEDULED_DEPARTURE  \n",
    "SCHEDULED_TIME  \n",
    "DISTANCE  \n",
    "SCHEDULED_ARRIVAL  \n",
    "\n",
    "Since each of them is measuring units (time in minutes and distance in kilometers). \n",
    "Every other feature is categorical since there is not a numerical scale between them, there are only classes to belong or not."
   ]
  },
  {
   "cell_type": "code",
   "execution_count": null,
   "metadata": {},
   "outputs": [],
   "source": [
    "df_clean.describe(include=[np.number])"
   ]
  },
  {
   "cell_type": "code",
   "execution_count": null,
   "metadata": {},
   "outputs": [],
   "source": [
    "df_clean.describe(include=['category'])"
   ]
  },
  {
   "cell_type": "markdown",
   "metadata": {},
   "source": [
    "The final dataset contains 11 features and 1 label, four of this features are continuos and 7 are discrete."
   ]
  },
  {
   "cell_type": "code",
   "execution_count": null,
   "metadata": {},
   "outputs": [],
   "source": [
    "df_clean.to_csv('./flights_clean.csv', index=False)"
   ]
  }
 ],
 "metadata": {
  "kernelspec": {
   "display_name": "Python 2",
   "language": "python",
   "name": "python2"
  },
  "language_info": {
   "codemirror_mode": {
    "name": "ipython",
    "version": 2
   },
   "file_extension": ".py",
   "mimetype": "text/x-python",
   "name": "python",
   "nbconvert_exporter": "python",
   "pygments_lexer": "ipython2",
   "version": "2.7.14"
  }
 },
 "nbformat": 4,
 "nbformat_minor": 2
}
